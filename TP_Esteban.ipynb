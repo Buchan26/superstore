import mlflow
import dtale
import plotly.express as px
import plotly.subplots as sp
import plotly.graph_objects as go
import tpot
import os
import pandas_profiling as pp
import pandas as pd


os.chdir(r'C:\Users\esteb\Downloads')

df = pd.read_csv('superstore_data.csv')

d = dtale.show(df)

d.open_browser()

pp.ProfileReport(df)


df.loc[df['Marital_Status']=='YOLO', 'Marital_Status'] = 'Single'
df.loc[df['Marital_Status']=='Absurd', 'Marital_Status'] = 'Single'
df.loc[df['Marital_Status']=='Alone', 'Marital_Status'] = 'Single'


df = pd.get_dummies(df, columns=['Education', 'Marital_Status'])

df['Dt_Customer'] = pd.to_datetime(df['Dt_Customer'])

df = df.sort_values('Dt_Customer')

from pycaret.classification import *
reg1 = setup(data = df, target = 'Response', polynomial_features = True, remove_multicollinearity=True, log_experiment = True, multicollinearity_threshold = 0.8)

best_model = compare_models()
plot_model(plot='threshold', estimator = best_model)

best_model2 = compare_models(probability_threshold=0.32)


from sklearn.metrics import balanced_accuracy_score
add_metric(id="my_metric_", name="My Metric2", score_func=balanced_accuracy_score)


model01 = create_model('rf', fold=5)
tuned_model = tune_model(model01, optimize='My Metric2')


model1 = create_model('rf', fold=5)
tuned_model = tune_model(model1, optimize='Recall')



model02 = create_model('lightgbm', fold=5)
tuned_model = tune_model(model02, optimize='My Metric2')

model2 = create_model('lightgbm', fold=5)
tuned_model = tune_model(model2, optimize='Recall')



model03 = create_model('et', fold=5)
tuned_model = tune_model(model03, optimize='My Metric2')

model3 = create_model('et', fold=5)
tuned_model = tune_model(model3, optimize='Recall')



model04 = create_model('ada', fold=5)
tuned_model = tune_model(model04, optimize='My Metric2')

model4 = create_model('ada', fold=5)
tuned_model = tune_model(model4, optimize='Recall')
